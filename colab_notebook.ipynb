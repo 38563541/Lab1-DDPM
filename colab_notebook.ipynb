{
  "cells": [
    {
      "cell_type": "markdown",
      "metadata": {},
      "source": [
        "# 🚀 Lab1-DDPM on Google Colab (Memory Optimized)\n",
        "這個 Notebook 幫你直接在 Colab 上跑 diffusion model (DDPM)，已針對 Colab 環境優化。\n",
        "\n",
        "步驟:\n",
        "1. 安裝依賴\n",
        "2. 下載 AFHQ dataset\n",
        "3. 訓練模型\n",
        "4. 存結果到 `./results/`\n"
      ]
    }
  ],
  "metadata": {
    "language_info": {
      "name": "python"
    }
  },
  "nbformat": 4,
  "nbformat_minor": 2
}
